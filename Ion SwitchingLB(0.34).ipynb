{
 "cells": [
  {
   "cell_type": "code",
   "execution_count": null,
   "metadata": {
    "_cell_guid": "b1076dfc-b9ad-4769-8c92-a6c4dae69d19",
    "_uuid": "8f2839f25d086af736a60e9eeb907d3b93b6e0e5"
   },
   "outputs": [],
   "source": [
    "import numpy as np # linear algebra\n",
    "import pandas as pd # data processing, CSV file I/O (e.g. pd.read_csv)\n",
    "import matplotlib.pyplot as plt\n",
    "import seaborn as sns\n",
    "\n",
    "from sklearn.linear_model import LogisticRegression\n",
    "from sklearn.model_selection import train_test_split, TimeSeriesSplit, cross_val_score, KFold, GridSearchCV\n",
    "from sklearn.metrics import accuracy_score, f1_score, roc_auc_score\n",
    "\n",
    "\n",
    "import xgboost \n",
    "import lightgbm"
   ]
  },
  {
   "cell_type": "code",
   "execution_count": null,
   "metadata": {
    "_cell_guid": "79c7e3d0-c299-4dcb-8224-4455121ee9b0",
    "_uuid": "d629ff2d2480ee46fbb7e2d37f6b5fab8052498a"
   },
   "outputs": [],
   "source": [
    "train = pd.read_csv('../input/liverpool-ion-switching/train.csv')\n",
    "test = pd.read_csv('../input/liverpool-ion-switching/test.csv')\n",
    "sample = pd.read_csv('../input/liverpool-ion-switching/sample_submission.csv')\n",
    "print(train.shape, test.shape)"
   ]
  },
  {
   "cell_type": "code",
   "execution_count": null,
   "metadata": {},
   "outputs": [],
   "source": [
    "train.head()"
   ]
  },
  {
   "cell_type": "code",
   "execution_count": null,
   "metadata": {},
   "outputs": [],
   "source": [
    "train.info()"
   ]
  },
  {
   "cell_type": "code",
   "execution_count": null,
   "metadata": {},
   "outputs": [],
   "source": [
    "print(train.isna().any().sum(), test.isna().any().sum())"
   ]
  },
  {
   "cell_type": "markdown",
   "metadata": {},
   "source": [
    "Cool, we have no missing values and all columns are numeric type."
   ]
  },
  {
   "cell_type": "code",
   "execution_count": null,
   "metadata": {},
   "outputs": [],
   "source": [
    "fig, ax = plt.subplots(1,2,figsize=(20,8))\n",
    "sns.countplot(train.open_channels, ax=ax[0])\n",
    "sns.distplot(train.open_channels, ax=ax[1])"
   ]
  },
  {
   "cell_type": "markdown",
   "metadata": {},
   "source": [
    "Classification. Higher number of open channels are less frequent. Let's check how open_channels vary with time. "
   ]
  },
  {
   "cell_type": "code",
   "execution_count": null,
   "metadata": {},
   "outputs": [],
   "source": [
    "plt.figure(figsize=(20,8))\n",
    "sns.scatterplot(x='time', y='open_channels', data=train)"
   ]
  },
  {
   "cell_type": "markdown",
   "metadata": {},
   "source": [
    "Insights:\n",
    "1. Values 0 and 1 for open_channels is very frequent as compared to other values.\n",
    "2. Values >= 6 occur between 200s and 250s and then between 450s and 500s. Seasonality? Maybe\n",
    "3. Values 2 and 3 occur between 150s and 300s and then between 350s and 500s. "
   ]
  },
  {
   "cell_type": "code",
   "execution_count": null,
   "metadata": {},
   "outputs": [],
   "source": [
    "plt.figure(figsize=(20,8))\n",
    "sns.lineplot(x='time', y='signal', hue='open_channels', data=train[train['time'] < 100])"
   ]
  },
  {
   "cell_type": "markdown",
   "metadata": {},
   "source": [
    "Cool. So, we can say that a single channel is opened only when the value of signal > -2."
   ]
  },
  {
   "cell_type": "code",
   "execution_count": null,
   "metadata": {},
   "outputs": [],
   "source": [
    "plt.figure(figsize=(20,8))\n",
    "sns.lineplot(x='time', y='signal', hue='open_channels', data=train[(train['time'] > 100) & (train['time'] < 200)])"
   ]
  },
  {
   "cell_type": "markdown",
   "metadata": {},
   "source": [
    "Clearly, the number of open channels increases with increase in signal. This graph is in tune with our time vs open_channels graph."
   ]
  },
  {
   "cell_type": "code",
   "execution_count": null,
   "metadata": {},
   "outputs": [],
   "source": [
    "plt.figure(figsize=(20,8))\n",
    "sns.lineplot(x='time', y='signal', hue='open_channels', data=train[(train['time'] > 200) & (train['time'] < 300)])"
   ]
  },
  {
   "cell_type": "code",
   "execution_count": null,
   "metadata": {},
   "outputs": [],
   "source": [
    "plt.figure(figsize=(20,8))\n",
    "sns.lineplot(x='time', y='signal', hue='open_channels', data=train[(train['time'] > 300) & (train['time'] < 400)])"
   ]
  },
  {
   "cell_type": "code",
   "execution_count": null,
   "metadata": {},
   "outputs": [],
   "source": [
    "plt.figure(figsize=(20,8))\n",
    "sns.lineplot(x='time', y='signal', hue='open_channels', data=train[train['time'] > 400])"
   ]
  },
  {
   "cell_type": "code",
   "execution_count": null,
   "metadata": {},
   "outputs": [],
   "source": [
    "train.describe()"
   ]
  },
  {
   "cell_type": "markdown",
   "metadata": {},
   "source": [
    "## Feature Engineering"
   ]
  },
  {
   "cell_type": "code",
   "execution_count": null,
   "metadata": {},
   "outputs": [],
   "source": [
    "train['train'] = 1\n",
    "test['train'] = 0"
   ]
  },
  {
   "cell_type": "code",
   "execution_count": null,
   "metadata": {},
   "outputs": [],
   "source": [
    "all_data = pd.concat([train,test]).drop(['open_channels'], axis=1).reset_index(drop=True)\n",
    "all_data"
   ]
  },
  {
   "cell_type": "code",
   "execution_count": null,
   "metadata": {},
   "outputs": [],
   "source": [
    "all_data['bw-5and-6'] = all_data['signal'].apply(lambda x : 1 if x < -5 and x > -6 else 0)\n",
    "all_data['bw-4and-5'] = all_data['signal'].apply(lambda x : 1 if x < -4 and x > -5 else 0)\n",
    "all_data['bw-3and-4'] = all_data['signal'].apply(lambda x : 1 if x < -3 and x > -4 else 0)\n",
    "all_data['bw-2and-3'] = all_data['signal'].apply(lambda x : 1 if x < -2 and x > -3 else 0)\n",
    "all_data['bw-1and-2'] = all_data['signal'].apply(lambda x : 1 if x < -1 and x > -2 else 0)\n",
    "all_data['bw0and-1'] = all_data['signal'].apply(lambda x : 1 if x < 0 and x > -1 else 0)\n",
    "all_data['bw1and0'] = all_data['signal'].apply(lambda x : 1 if x < 1 and x > 0 else 0)\n",
    "all_data['bw2and1'] = all_data['signal'].apply(lambda x : 1 if x < 2 and x > 1 else 0)\n",
    "all_data['bw3and2'] = all_data['signal'].apply(lambda x : 1 if x < 3 and x > 2 else 0)\n",
    "all_data['bw4and3'] = all_data['signal'].apply(lambda x : 1 if x < 4 and x > 3 else 0)\n",
    "all_data['bw5and4'] = all_data['signal'].apply(lambda x : 1 if x < 5 and x > 4 else 0)\n",
    "all_data['bw6and5'] = all_data['signal'].apply(lambda x : 1 if x < 6 and x > 5 else 0)\n",
    "all_data['bw7and6'] = all_data['signal'].apply(lambda x : 1 if x < 7 and x > 6 else 0)\n",
    "all_data['bw8and7'] = all_data['signal'].apply(lambda x : 1 if x < 8 and x > 7 else 0)\n",
    "all_data['bw9and8'] = all_data['signal'].apply(lambda x : 1 if x < 9 and x > 8 else 0)\n",
    "all_data['bw10and9'] = all_data['signal'].apply(lambda x : 1 if x < 10 and x > 9 else 0)\n",
    "all_data['bw11and10'] = all_data['signal'].apply(lambda x : 1 if x < 11 and x > 10 else 0)\n",
    "all_data['bw12and11'] = all_data['signal'].apply(lambda x : 1 if x < 12 and x > 11 else 0)\n",
    "all_data['bw13and12'] = all_data['signal'].apply(lambda x : 1 if x < 13 and x > 12 else 0)\n",
    "all_data['bw14and13'] = all_data['signal'].apply(lambda x : 1 if x < 14 and x > 13 else 0)"
   ]
  },
  {
   "cell_type": "code",
   "execution_count": null,
   "metadata": {},
   "outputs": [],
   "source": [
    "all_data['bw-4and-6'] = all_data['signal'].apply(lambda x : 1 if x < -4 and x > -6 else 0)\n",
    "all_data['bw-2and-4'] = all_data['signal'].apply(lambda x : 1 if x < -2 and x > -4 else 0)\n",
    "all_data['bw0and-2'] = all_data['signal'].apply(lambda x : 1 if x < 0 and x > -2 else 0)\n",
    "all_data['bw2and0'] = all_data['signal'].apply(lambda x : 1 if x < 2 and x > 0 else 0)\n",
    "all_data['bw4and2'] = all_data['signal'].apply(lambda x : 1 if x < 4 and x > 2 else 0)\n",
    "all_data['bw6and4'] = all_data['signal'].apply(lambda x : 1 if x < 6 and x > 4 else 0)\n",
    "all_data['bw8and6'] = all_data['signal'].apply(lambda x : 1 if x < 8 and x > 6 else 0)\n",
    "all_data['bw10and8'] = all_data['signal'].apply(lambda x : 1 if x < 10 and x > 8 else 0)\n",
    "all_data['bw12and10'] = all_data['signal'].apply(lambda x : 1 if x < 12 and x > 10 else 0)\n",
    "all_data['bw14and12'] = all_data['signal'].apply(lambda x : 1 if x < 14 and x > 12 else 0)"
   ]
  },
  {
   "cell_type": "code",
   "execution_count": null,
   "metadata": {},
   "outputs": [],
   "source": [
    "all_data"
   ]
  },
  {
   "cell_type": "markdown",
   "metadata": {},
   "source": [
    "## Modeling"
   ]
  },
  {
   "cell_type": "code",
   "execution_count": null,
   "metadata": {},
   "outputs": [],
   "source": [
    "training_data = all_data[all_data['train'] == 1]\n",
    "training_data = training_data.join(train['open_channels'])"
   ]
  },
  {
   "cell_type": "code",
   "execution_count": null,
   "metadata": {},
   "outputs": [],
   "source": [
    "data_corr = training_data.corr()\n",
    "data_corr"
   ]
  },
  {
   "cell_type": "code",
   "execution_count": null,
   "metadata": {},
   "outputs": [],
   "source": [
    "plt.figure(figsize=(20,10))\n",
    "sns.barplot(y=data_corr['open_channels'].index, x=data_corr['open_channels'].values)"
   ]
  },
  {
   "cell_type": "code",
   "execution_count": null,
   "metadata": {},
   "outputs": [],
   "source": [
    "KFOLDS = 5\n",
    "cv = KFold(n_splits=KFOLDS, shuffle=True, random_state=108)"
   ]
  },
  {
   "cell_type": "code",
   "execution_count": null,
   "metadata": {},
   "outputs": [],
   "source": [
    "# xgb = xgboost.XGBClassifier(tree_method='hist', objective='multi:softmax')\n",
    "param_grid ={\n",
    "    'min_child_weight': [25],\n",
    "    'subsample': [0.7],\n",
    "    'colsample_bytree': [1],\n",
    "    'max_depth': [7],\n",
    "    'learning_rate': [0.01],\n",
    "    'n_estimators':[100]\n",
    "    }"
   ]
  },
  {
   "cell_type": "code",
   "execution_count": null,
   "metadata": {},
   "outputs": [],
   "source": [
    "lgb = lightgbm.LGBMClassifier(objective='multiclass')"
   ]
  },
  {
   "cell_type": "code",
   "execution_count": null,
   "metadata": {},
   "outputs": [],
   "source": [
    "clf = GridSearchCV(\n",
    "        estimator=lgb,\n",
    "        param_grid=param_grid,\n",
    "        cv=cv,\n",
    "        iid=True,\n",
    "        return_train_score=True,\n",
    "        scoring='f1_macro',\n",
    "        verbose=100,\n",
    "        refit=False\n",
    "    )"
   ]
  },
  {
   "cell_type": "code",
   "execution_count": null,
   "metadata": {},
   "outputs": [],
   "source": [
    "X = training_data.drop(['open_channels','train','time'], axis=1)\n",
    "y = training_data['open_channels']"
   ]
  },
  {
   "cell_type": "code",
   "execution_count": null,
   "metadata": {},
   "outputs": [],
   "source": [
    "X"
   ]
  },
  {
   "cell_type": "code",
   "execution_count": null,
   "metadata": {},
   "outputs": [],
   "source": [
    "clf.fit(X,y)"
   ]
  },
  {
   "cell_type": "code",
   "execution_count": null,
   "metadata": {},
   "outputs": [],
   "source": [
    "plt.figure(figsize=(20,6))\n",
    "sns.barplot(x=clf.best_estimator_.feature_importances_, y=X.columns)"
   ]
  },
  {
   "cell_type": "code",
   "execution_count": null,
   "metadata": {},
   "outputs": [],
   "source": [
    "X_test = all_data[all_data['train'] == 0]\n",
    "X_test"
   ]
  },
  {
   "cell_type": "code",
   "execution_count": null,
   "metadata": {},
   "outputs": [],
   "source": [
    "predictions = clf.predict(X_test)\n",
    "predictions"
   ]
  },
  {
   "cell_type": "code",
   "execution_count": null,
   "metadata": {},
   "outputs": [],
   "source": [
    "plt.figure(figsize=(8,6))\n",
    "sns.countplot(predictions)"
   ]
  },
  {
   "cell_type": "code",
   "execution_count": null,
   "metadata": {},
   "outputs": [],
   "source": [
    "test['open_channels'] = predictions"
   ]
  },
  {
   "cell_type": "code",
   "execution_count": null,
   "metadata": {},
   "outputs": [],
   "source": [
    "test = test[['time', 'open_channels']]\n",
    "test.to_csv('submission.csv', index=False, float_format='%.4f')"
   ]
  },
  {
   "cell_type": "code",
   "execution_count": null,
   "metadata": {},
   "outputs": [],
   "source": []
  },
  {
   "cell_type": "code",
   "execution_count": null,
   "metadata": {},
   "outputs": [],
   "source": []
  }
 ],
 "metadata": {
  "kernelspec": {
   "display_name": "Python 3",
   "language": "python",
   "name": "python3"
  },
  "language_info": {
   "codemirror_mode": {
    "name": "ipython",
    "version": 3
   },
   "file_extension": ".py",
   "mimetype": "text/x-python",
   "name": "python",
   "nbconvert_exporter": "python",
   "pygments_lexer": "ipython3",
   "version": "3.6.9"
  }
 },
 "nbformat": 4,
 "nbformat_minor": 4
}
